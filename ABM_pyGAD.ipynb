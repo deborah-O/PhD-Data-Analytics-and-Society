{
 "cells": [
  {
   "cell_type": "markdown",
   "metadata": {},
   "source": [
    "<center><h1> Agent-Based Model of Panic</h1> </center>"
   ]
  },
  {
   "cell_type": "markdown",
   "metadata": {
    "tags": []
   },
   "source": [
    "### Import Packages"
   ]
  },
  {
   "cell_type": "code",
   "execution_count": 12,
   "metadata": {
    "tags": []
   },
   "outputs": [],
   "source": [
    "import random\n",
    "import matplotlib.pyplot as plt\n",
    "from matplotlib import cm\n",
    "import pandas as pd\n",
    "from scipy import stats\n",
    "import statistics\n",
    "import math\n",
    "import numpy as np\n",
    "from itertools import combinations\n",
    "import seaborn as sns"
   ]
  },
  {
   "cell_type": "markdown",
   "metadata": {
    "tags": []
   },
   "source": [
    "### Model Class"
   ]
  },
  {
   "cell_type": "code",
   "execution_count": 14,
   "metadata": {
    "tags": []
   },
   "outputs": [],
   "source": [
    "class Model():\n",
    "\n",
    "    def __init__(self, num_of_agents, num_iterations, agent_groups): \n",
    "        \n",
    "        self.num_of_agents = num_of_agents\n",
    "        self.num_iterations = num_iterations\n",
    "        self.agent_groups = agent_groups\n",
    "\n",
    "        self.time = 0 #model time\n",
    "        \n",
    "        #creating lists\n",
    "        self.num_infected_per_iteration = []\n",
    "        self.num_infected_per_iteration_groups = []\n",
    "        \n",
    "        #create the agents\n",
    "        self.agents = []\n",
    "        \n",
    "        for key in self.agent_groups.keys():\n",
    "#             print(key)\n",
    "            for i in range(round(self.agent_groups[key][2] * num_of_agents)):\n",
    "                agent = Agent(self, key, key[0], key[1])\n",
    "                agent.beta = self.agent_groups[key][0]\n",
    "                agent.alpha = self.agent_groups[key][1]\n",
    "#                 print(agent)\n",
    "                self.agents.append(agent)\n",
    "        \n",
    "        self.infected_per_group = {}\n",
    "        \n",
    "        for g in self.agent_groups:\n",
    "            self.infected_per_group[g] = []\n",
    "        \n",
    "\n",
    "    def get_num_infected(self):\n",
    "        return len(([a for a in self.agents if a.state==1])) \n",
    "\n",
    "    def get_num_infected_iteration_groups(self, group_number):\n",
    "        return len(([ a for a in self.agent_groups[group_number] if a.state==1 ]))\n",
    "    \n",
    "    def run(self):\n",
    "        for t in range(self.num_iterations):\n",
    "            for agent in self.agents:\n",
    "                if t >=1:\n",
    "                    agent.step()\n",
    "           \n",
    "            for g in self.agent_groups:\n",
    "                group_agents = [a for a in self.agents if a.group == g]\n",
    "                num_infected = sum([a.state for a in group_agents])\n",
    "                self.infected_per_group[g].append(num_infected)\n",
    "        \n",
    "    \n",
    "            self.num_infected_per_iteration.append(self.get_num_infected())\n",
    "        \n",
    "        \n",
    "            self.data = pd.DataFrame(self.infected_per_group)\n",
    "            self.data.reset_index(inplace = True, drop = False)\n",
    "            \n",
    "            self.dataset = pd.DataFrame(self.num_infected_per_iteration)\n",
    "        \n",
    "            \n",
    "            self.result = pd.merge(self.data, self.dataset, left_index=True, right_index=True)\n",
    "            self.result.rename(columns={self.result.columns[-1]: \"num_infected\" }, inplace = True)\n",
    "        \n",
    "    \n",
    "            self.time += 1"
   ]
  },
  {
   "cell_type": "markdown",
   "metadata": {
    "tags": []
   },
   "source": [
    "### Agent Class"
   ]
  },
  {
   "cell_type": "code",
   "execution_count": 15,
   "metadata": {
    "tags": []
   },
   "outputs": [],
   "source": [
    "class Agent():\n",
    "    \n",
    "    def __init__(self, model, group, beta=0, alpha=0, gamma=0.1):\n",
    "        \n",
    "        #intialising parameters\n",
    "        self.state = 0\n",
    "        \n",
    "        self.alpha = alpha\n",
    "        self.gamma = gamma\n",
    "        self.beta = beta \n",
    "        \n",
    "        self.model = model\n",
    "        \n",
    "        self.group = group\n",
    "        \n",
    "        self.likelihood = 0\n",
    "\n",
    "    def step(self):\n",
    "        if self.state == 0:\n",
    "            self.become_panicked()\n",
    "            \n",
    "        else:\n",
    "            self.recover()\n",
    "    \n",
    "    \n",
    "    def __repr__(self):\n",
    "        return f\"agent beta {self.beta}\"\n",
    "        \n",
    "        \n",
    "    def become_panicked(self):\n",
    "        \n",
    "        Agent_i = random.choice(self.model.agents)\n",
    "        \n",
    "        if Agent_i.state == 1:\n",
    "            self.likelihood = self.alpha + self.beta\n",
    "        else:\n",
    "            self.likelihood = self.alpha\n",
    "        \n",
    "        r_v = random.random()\n",
    "        if r_v < self.likelihood: \n",
    "            self.state = 1\n",
    "       \n",
    "    def recover(self): \n",
    "        r_v = random.random()\n",
    "        if self.state == 1:\n",
    "            if r_v < self.gamma:\n",
    "                self.state = 0"
   ]
  },
  {
   "cell_type": "markdown",
   "metadata": {},
   "source": [
    "### Running model"
   ]
  },
  {
   "cell_type": "code",
   "execution_count": 16,
   "metadata": {
    "scrolled": true,
    "tags": []
   },
   "outputs": [],
   "source": [
    "# Create and run model\n",
    "agent_groups = {'Group1': [0.2, 0.01, 1.0]}\n",
    "random.seed(200)\n",
    "model = Model(num_of_agents=1000, num_iterations=1000, agent_groups=agent_groups)\n",
    "model.run()"
   ]
  },
  {
   "cell_type": "markdown",
   "metadata": {},
   "source": [
    "### Producing CDF for pyGAD"
   ]
  },
  {
   "cell_type": "code",
   "execution_count": 18,
   "metadata": {
    "tags": []
   },
   "outputs": [],
   "source": [
    "Data=model.num_infected_per_iteration\n",
    "x = np.arange(model.num_of_agents +2) -0.5\n",
    "hist, bin_edges = np.histogram(Data, x)\n",
    "aveg_cdf = np.cumsum(hist)/len(Data)"
   ]
  },
  {
   "cell_type": "code",
   "execution_count": null,
   "metadata": {},
   "outputs": [],
   "source": []
  }
 ],
 "metadata": {
  "kernelspec": {
   "display_name": "Python 3",
   "language": "python",
   "name": "python3"
  },
  "language_info": {
   "codemirror_mode": {
    "name": "ipython",
    "version": 3
   },
   "file_extension": ".py",
   "mimetype": "text/x-python",
   "name": "python",
   "nbconvert_exporter": "python",
   "pygments_lexer": "ipython3",
   "version": "3.11.4"
  }
 },
 "nbformat": 4,
 "nbformat_minor": 4
}
