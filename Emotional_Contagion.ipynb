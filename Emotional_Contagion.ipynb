{
 "cells": [
  {
   "cell_type": "markdown",
   "id": "4e8f1d98-d43b-438d-8b31-e71b8a48c400",
   "metadata": {
    "tags": []
   },
   "source": [
    "<center> <h1> Agent-Based Model of Panic</h1> </center>"
   ]
  },
  {
   "cell_type": "markdown",
   "id": "cc74394a-84c3-4920-be3f-9896d1186982",
   "metadata": {
    "tags": []
   },
   "source": [
    "### Import Packages"
   ]
  },
  {
   "cell_type": "code",
   "execution_count": 2,
   "id": "17b7f56e-169a-43eb-b670-85300a7301c7",
   "metadata": {
    "tags": []
   },
   "outputs": [],
   "source": [
    "import random\n",
    "import matplotlib.pyplot as plt\n",
    "import pandas as pd\n",
    "import statistics\n",
    "import math\n",
    "import numpy as np\n",
    "import seaborn as sns"
   ]
  },
  {
   "cell_type": "markdown",
   "id": "a208a3b1-516c-4cd4-b129-0655bb316c82",
   "metadata": {
    "tags": []
   },
   "source": [
    "### Figure Settings"
   ]
  },
  {
   "cell_type": "code",
   "execution_count": 2,
   "id": "0c51b44d-3be4-4630-89da-99a6927b1686",
   "metadata": {},
   "outputs": [],
   "source": [
    "plt.rc('figure', figsize=(12, 8))\n",
    "plt.rcParams['font.size'] = '14'\n",
    "sns.set_style(\"ticks\", {'font.family': 'Times New Roman'})\n",
    "sns.set_palette(\"Paired\")"
   ]
  },
  {
   "cell_type": "markdown",
   "id": "5c2eee92-6eb5-4875-b104-0e72437e4b47",
   "metadata": {
    "tags": []
   },
   "source": [
    "### Model Class"
   ]
  },
  {
   "cell_type": "code",
   "execution_count": 3,
   "id": "30e7256d-d584-4b1c-9de7-000a34178b9a",
   "metadata": {},
   "outputs": [],
   "source": [
    "class Model():\n",
    "    '''\n",
    "    Panic Model\n",
    "\n",
    "    Description:\n",
    "        An Agent-Based Model (ABM) that synchronously `steps`\n",
    "        step()\n",
    "\n",
    "    Params:\n",
    "        num_of_agents \n",
    "        num_iterations\n",
    "        agent_groups \n",
    "        \n",
    "    Returns:\n",
    "        get_num_infected()\n",
    "    '''\n",
    "\n",
    "\n",
    "    def __init__(self, num_of_agents, num_iterations, agent_groups): \n",
    "        '''\n",
    "        Create a new model, reading parameters from a keyword argument\n",
    "        dictionary.\n",
    "        '''\n",
    "        \n",
    "        self.num_of_agents = num_of_agents #Number of Agent_Pop\n",
    "        self.num_iterations = num_iterations #Number of Iterations\n",
    "        self.agent_groups = agent_groups #Proportion of Agents in each group, between 0-1. \n",
    "\n",
    "        self.time = 0 #model time\n",
    "        \n",
    "        #creating lists\n",
    "        self.num_infected_per_iteration = []\n",
    "        \n",
    "        #create the agents\n",
    "        self.agents = []\n",
    "        \n",
    "        #create agent groups based on specified number of groups\n",
    "        for key in self.agent_groups.keys():\n",
    "#             print(key)\n",
    "            for i in range(round(self.agent_groups[key][2] * num_of_agents)):\n",
    "                agent = Agent(self, key, key[0], key[1])\n",
    "                agent.beta = self.agent_groups[key][0]\n",
    "                agent.alpha = self.agent_groups[key][1]\n",
    "#                 print(agent)\n",
    "                self.agents.append(agent)\n",
    "        \n",
    "        self.infected_per_group = {}\n",
    "        \n",
    "        for g in self.agent_groups:\n",
    "            self.infected_per_group[g] = []\n",
    "        \n",
    "\n",
    "    def get_num_infected(self):\n",
    "        '''\n",
    "        Returns the number of infected agents.\n",
    "        '''\n",
    "        return len(([a for a in self.agents if a.state==1])) \n",
    "    \n",
    "    def run(self):\n",
    "        '''\n",
    "        Iterate model forward one second.\n",
    "        '''\n",
    "        for t in range(self.num_iterations):\n",
    "            for agent in self.agents:\n",
    "                if t >=1:\n",
    "                    agent.state = 0\n",
    "           \n",
    "            for g in self.agent_groups:\n",
    "                group_agents = [a for a in self.agents if a.group == g]\n",
    "                num_infected = sum([a.state for a in group_agents])\n",
    "                self.infected_per_group[g].append(num_infected)\n",
    "        \n",
    "    \n",
    "            self.num_infected_per_iteration.append(self.get_num_infected())\n",
    "        \n",
    "            #Prepares model output.\n",
    "            self.data = pd.DataFrame(self.infected_per_group)\n",
    "            self.data.reset_index(inplace = True, drop = False)\n",
    "            self.dataset = pd.DataFrame(self.num_infected_per_iteration)\n",
    "            self.result = pd.merge(self.data, self.dataset, left_index=True, right_index=True)\n",
    "            self.result.rename(columns={self.result.columns[-1]: \"num_infected\" }, inplace = True)\n",
    "        \n",
    "    \n",
    "            self.time += 1\n",
    "        \n"
   ]
  },
  {
   "cell_type": "markdown",
   "id": "f8d22e9a-8b72-4baf-b5a7-3856963d5bee",
   "metadata": {
    "tags": []
   },
   "source": [
    "### Agent Class"
   ]
  },
  {
   "cell_type": "code",
   "execution_count": 4,
   "id": "54a0c04d-366e-419a-a607-bfbf51c826ea",
   "metadata": {},
   "outputs": [],
   "source": [
    "class Agent():\n",
    "    '''\n",
    "    A class representing a generic agent for the Panic ABM.\n",
    "    '''\n",
    "    \n",
    "    def __init__(self, Model, group, beta, alpha, gamma= 0.1):\n",
    "        '''\n",
    "        Initialise a new agent.\n",
    "\n",
    "        Desctiption:\n",
    "            Creates a new agent and assigns it to the suspectible state.\n",
    "            All agents are assigned rates for alpha, beta and gamma parameter values\n",
    "            Agent likelihood are set to 0 to begin with\n",
    "\n",
    "        Parameters:\n",
    "            model - a pointer to the Model Class that is creating\n",
    "            this agent\n",
    "            group - a pointer to agent's the Agent Group\n",
    "        '''\n",
    "        # Required\n",
    "        self.state = 0 # 0 Suspectible, 1 Infected\n",
    "        \n",
    "        self.alpha = alpha \n",
    "        self.gamma = gamma\n",
    "        self.beta = beta \n",
    "        \n",
    "        self.model = Model\n",
    "        self.group = group\n",
    "        \n",
    "        self.likelihood = 0 # Updated once model begins\n",
    "\n",
    "    def step(self):\n",
    "        '''\n",
    "        Iterate the agent.\n",
    "\n",
    "        Description:\n",
    "            If they are suspectible then they can become panicked, if they are infected they can recover.\n",
    "        '''\n",
    "        if self.state == 0:\n",
    "            self.become_panicked()\n",
    "            \n",
    "        else:\n",
    "            self.recover()\n",
    "        \n",
    "        \n",
    "    def become_panicked(self):\n",
    "        '''\n",
    "        Process of infection. \n",
    "        The agent randomly chooses an agent from the population and observe their state. \n",
    "        If the comparative agent is infected, agent computes a likelihood with alpha and beta.\n",
    "        If the comparative agent is suspectible, agent computes their likelihood with alpha.\n",
    "        \n",
    "        To switch states, the likelihood has to greater than a randomly generated number.\n",
    "        '''\n",
    "        \n",
    "        Agent_i = random.choice(self.model.agents)\n",
    "        \n",
    "        if Agent_i.state == 1:\n",
    "            self.likelihood = self.alpha + self.beta\n",
    "        else:\n",
    "            self.likelihood = self.alpha\n",
    "        \n",
    "        r_v = random.random()\n",
    "        if r_v < self.likelihood: \n",
    "            self.state = 1\n",
    "       \n",
    "    def recover(self): \n",
    "        '''\n",
    "        Process of recovery. \n",
    "        If the agent is infected, then given a randomly generated number, they can recover to a suspectible state.\n",
    "        '''\n",
    "        r_v = random.random()\n",
    "        if self.state == 1:\n",
    "            if r_v < self.gamma:\n",
    "                self.state = 0"
   ]
  },
  {
   "cell_type": "markdown",
   "id": "2598cc54-1e8b-446b-9f9b-43ae31d0c854",
   "metadata": {
    "tags": []
   },
   "source": [
    "### Run Model"
   ]
  },
  {
   "cell_type": "code",
   "execution_count": null,
   "id": "a3c1a1b5-9d03-4a1b-8631-97949ae333c3",
   "metadata": {},
   "outputs": [],
   "source": [
    "#Run model\n",
    "agent_groups = {'Group1':[0.2, 0.01, 1.0]}\n",
    "model = Model(num_of_agents=1000, num_iterations=1000, agent_groups=agent_groups)\n",
    "model.run()"
   ]
  }
 ],
 "metadata": {
  "kernelspec": {
   "display_name": "Python 3",
   "language": "python",
   "name": "python3"
  },
  "language_info": {
   "codemirror_mode": {
    "name": "ipython",
    "version": 3
   },
   "file_extension": ".py",
   "mimetype": "text/x-python",
   "name": "python",
   "nbconvert_exporter": "python",
   "pygments_lexer": "ipython3",
   "version": "3.11.4"
  }
 },
 "nbformat": 4,
 "nbformat_minor": 5
}
